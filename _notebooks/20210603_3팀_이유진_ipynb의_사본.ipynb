{
  "nbformat": 4,
  "nbformat_minor": 0,
  "metadata": {
    "colab": {
      "name": "20210603_3팀_이유진.ipynb의 사본",
      "provenance": [],
      "authorship_tag": "ABX9TyOEJWQkwa4GmGsDP8ejZWpK",
      "include_colab_link": true
    },
    "kernelspec": {
      "name": "python3",
      "display_name": "Python 3"
    },
    "language_info": {
      "name": "python"
    }
  },
  "cells": [
    {
      "cell_type": "markdown",
      "metadata": {
        "id": "view-in-github",
        "colab_type": "text"
      },
      "source": [
        "<a href=\"https://colab.research.google.com/github/UUJUJJ/colab01/blob/master/_notebooks/20210603_3%ED%8C%80_%EC%9D%B4%EC%9C%A0%EC%A7%84_ipynb%EC%9D%98_%EC%82%AC%EB%B3%B8.ipynb\" target=\"_parent\"><img src=\"https://colab.research.google.com/assets/colab-badge.svg\" alt=\"Open In Colab\"/></a>"
      ]
    },
    {
      "cell_type": "code",
      "metadata": {
        "colab": {
          "base_uri": "https://localhost:8080/"
        },
        "id": "fATzC8VRCxUF",
        "outputId": "d4b796cf-1027-48c3-803d-09312fb27e53"
      },
      "source": [
        "#매개변수와 인수\n",
        "#매개변수는 함수에 입력으로 전달된 값을 받는 변수\n",
        "#인수는 함수를 호출할 때 전달하는 입력값\n",
        "def add(a,b):      #a, b는 매개변수\n",
        "    return a+b\n",
        "print(add(3,4))    #3, 4는 인수"
      ],
      "execution_count": null,
      "outputs": [
        {
          "output_type": "stream",
          "text": [
            "7\n"
          ],
          "name": "stdout"
        }
      ]
    },
    {
      "cell_type": "code",
      "metadata": {
        "colab": {
          "base_uri": "https://localhost:8080/"
        },
        "id": "ADSf8YliDP03",
        "outputId": "2f5a454a-3ee8-4f34-ee9b-f81da360b5fb"
      },
      "source": [
        "#예제_DT스쿨 최저 연령은?\n",
        "alist={\n",
        "    '1팀':[25,39,29,27,22],\n",
        "    '2팀':[27,24,25,29,25],\n",
        "    '3팀':[25,26,25,23,23,28,27],\n",
        "    '4팀':[21,23,30],\n",
        "    '5팀':[26,41,24,31,21,34,27],\n",
        "    '6팀':[21,29,27,25,25]}\n",
        "age_li=[]\n",
        "for i,v in alist.items():\n",
        "    print(f'{i}의 최저연령은{min(v)} 최고연령은{max(v)}')\n",
        "    age_li.extend(v)\n",
        "    #print(age_li)\n",
        "print(f'DT스쿨 최저연령은 {min(age_li)} 최고연령은 {max(age_li)}')"
      ],
      "execution_count": null,
      "outputs": [
        {
          "output_type": "stream",
          "text": [
            "1팀의 최저연령은22 최고연령은39\n",
            "2팀의 최저연령은24 최고연령은29\n",
            "3팀의 최저연령은23 최고연령은28\n",
            "4팀의 최저연령은21 최고연령은30\n",
            "5팀의 최저연령은21 최고연령은41\n",
            "6팀의 최저연령은21 최고연령은29\n",
            "DT스쿨 최저연령은 21 최고연령은 41\n"
          ],
          "name": "stdout"
        }
      ]
    },
    {
      "cell_type": "code",
      "metadata": {
        "colab": {
          "base_uri": "https://localhost:8080/"
        },
        "id": "HoknrRGGIb3W",
        "outputId": "5456f69b-5190-48dd-ce81-fd6ccebb1817"
      },
      "source": [
        "#문자열 나누기\n",
        "#문자열.split() 함수는 문자열을 일정한 규칙으로 잘라서 리스트로 만들어주는 함수\n",
        "text='문자열 나누기'\n",
        "li=text.split(sep=' ')\n",
        "li"
      ],
      "execution_count": null,
      "outputs": [
        {
          "output_type": "execute_result",
          "data": {
            "text/plain": [
              "['문자열', '나누기']"
            ]
          },
          "metadata": {
            "tags": []
          },
          "execution_count": 5
        }
      ]
    },
    {
      "cell_type": "code",
      "metadata": {
        "colab": {
          "base_uri": "https://localhost:8080/",
          "height": 35
        },
        "id": "zChSorK2Imht",
        "outputId": "b841348b-2d7d-485e-a451-c7835ecd99fd"
      },
      "source": [
        "#'구분자'.join(리스트)함수는 리스트에 있는 요소 하나하나를 합쳐서 하나의 문자열로 바꾸어 반환\n",
        "text2=' '.join(li)\n",
        "text2"
      ],
      "execution_count": null,
      "outputs": [
        {
          "output_type": "execute_result",
          "data": {
            "application/vnd.google.colaboratory.intrinsic+json": {
              "type": "string"
            },
            "text/plain": [
              "'문자열 나누기'"
            ]
          },
          "metadata": {
            "tags": []
          },
          "execution_count": 6
        }
      ]
    },
    {
      "cell_type": "code",
      "metadata": {
        "colab": {
          "base_uri": "https://localhost:8080/"
        },
        "id": "j2aqsQYmIzpR",
        "outputId": "872cbe62-3fd9-46ca-e399-2f3bfa9e97b4"
      },
      "source": [
        "#딕셔너리 값 가져오기\n",
        "#딕셔너리 값이 리스트, 딕셔너리일 때\n",
        "alist={\n",
        "    '키1':['값1','값2'],\n",
        "    '키2':['값3','값4'],\n",
        "    '키3':['값5','값6'],\n",
        "    '키4':{'키':100}}\n",
        "print(list(alist['키1']))\n",
        "print(alist['키4']['키'])"
      ],
      "execution_count": null,
      "outputs": [
        {
          "output_type": "stream",
          "text": [
            "['값1', '값2']\n",
            "100\n"
          ],
          "name": "stdout"
        }
      ]
    },
    {
      "cell_type": "code",
      "metadata": {
        "colab": {
          "base_uri": "https://localhost:8080/"
        },
        "id": "n7RHtReAGIWH",
        "outputId": "22ec35ed-41c7-4a5c-e742-088f54ed49f9"
      },
      "source": [
        "#예제_우리팀 캐릭터 사전 만들기\n",
        "team_dic = {'승혜':['러닝',70,25,20],'유진':['드라마보기',60,25,25],'지현':['노래듣기',65,23,21],'창익':['당구',60,27,17],'혜원':['인터넷쇼핑하기',70,28,28],'영은':['책읽기랑운동하기',95,25,20],'지선':['카페가기',90,23,23]}\n",
        "a=input()\n",
        "b_list=team_dic[a]\n",
        "print(f'우리 {a}님을 소개합니다. {a}님은 {b_list[0]}를 좋아해요.')\n",
        "print(f'체력은 {b_list[1]}! {b_list[2]}세의 신체연령에 신기하게도 정신연령은 {b_list[3]}세!!!')\n",
        "print(f'사랑스러운 {a}님 이시네요')"
      ],
      "execution_count": null,
      "outputs": [
        {
          "output_type": "stream",
          "text": [
            "유진\n",
            "우리 유진님을 소개합니다. 유진님은 드라마보기를 좋아해요.\n",
            "체력은 60! 25세의 신체연령에 신기하게도 정신연령은 25세!!!\n",
            "사랑스러운 유진님 이시네요\n"
          ],
          "name": "stdout"
        }
      ]
    },
    {
      "cell_type": "code",
      "metadata": {
        "colab": {
          "base_uri": "https://localhost:8080/"
        },
        "id": "a728P7dVJsKt",
        "outputId": "3f53e91b-fca9-42f2-fb8f-9369eb9ed0aa"
      },
      "source": [
        "from google.colab import drive\n",
        "drive.mount('/content/drive')"
      ],
      "execution_count": null,
      "outputs": [
        {
          "output_type": "stream",
          "text": [
            "Mounted at /content/drive\n"
          ],
          "name": "stdout"
        }
      ]
    },
    {
      "cell_type": "code",
      "metadata": {
        "colab": {
          "base_uri": "https://localhost:8080/",
          "height": 137
        },
        "id": "ZOFZsNjZYa3E",
        "outputId": "7bfc7b1e-f390-41cd-fd2d-3bac331d909e"
      },
      "source": [
        "#분석할 이미지 파일명을 입력합니다.\n",
        "files={'image':open('/content/drive/MyDrive/2020.jpg'),'rb'}"
      ],
      "execution_count": null,
      "outputs": [
        {
          "output_type": "error",
          "ename": "SyntaxError",
          "evalue": "ignored",
          "traceback": [
            "\u001b[0;36m  File \u001b[0;32m\"<ipython-input-18-2fe7dea6e255>\"\u001b[0;36m, line \u001b[0;32m2\u001b[0m\n\u001b[0;31m    files={'image':open('/content/drive/MyDrive/2020.jpg'),'rb'}\u001b[0m\n\u001b[0m                                                               ^\u001b[0m\n\u001b[0;31mSyntaxError\u001b[0m\u001b[0;31m:\u001b[0m invalid syntax\n"
          ]
        }
      ]
    },
    {
      "cell_type": "code",
      "metadata": {
        "colab": {
          "base_uri": "https://localhost:8080/",
          "height": 229
        },
        "id": "m4_G7zdqaWRN",
        "outputId": "42d87790-c8be-4532-9024-280d8ec02482"
      },
      "source": [
        "#json 형식을 사용하기 위하여 import 합니다.\n",
        "import json\n",
        "\n",
        "#loads 함수를 사용하여 json으로 변환합니다.\n",
        "result=json.loads(response.text)\n",
        "result"
      ],
      "execution_count": null,
      "outputs": [
        {
          "output_type": "error",
          "ename": "NameError",
          "evalue": "ignored",
          "traceback": [
            "\u001b[0;31m---------------------------------------------------------------------------\u001b[0m",
            "\u001b[0;31mNameError\u001b[0m                                 Traceback (most recent call last)",
            "\u001b[0;32m<ipython-input-16-f1892d8e1d4d>\u001b[0m in \u001b[0;36m<module>\u001b[0;34m()\u001b[0m\n\u001b[1;32m      3\u001b[0m \u001b[0;34m\u001b[0m\u001b[0m\n\u001b[1;32m      4\u001b[0m \u001b[0;31m#loads 함수를 사용하여 json으로 변환합니다.\u001b[0m\u001b[0;34m\u001b[0m\u001b[0;34m\u001b[0m\u001b[0;34m\u001b[0m\u001b[0m\n\u001b[0;32m----> 5\u001b[0;31m \u001b[0mresult\u001b[0m\u001b[0;34m=\u001b[0m\u001b[0mjson\u001b[0m\u001b[0;34m.\u001b[0m\u001b[0mloads\u001b[0m\u001b[0;34m(\u001b[0m\u001b[0mresponse\u001b[0m\u001b[0;34m.\u001b[0m\u001b[0mtext\u001b[0m\u001b[0;34m)\u001b[0m\u001b[0;34m\u001b[0m\u001b[0;34m\u001b[0m\u001b[0m\n\u001b[0m\u001b[1;32m      6\u001b[0m \u001b[0mresult\u001b[0m\u001b[0;34m\u001b[0m\u001b[0;34m\u001b[0m\u001b[0m\n",
            "\u001b[0;31mNameError\u001b[0m: name 'response' is not defined"
          ]
        }
      ]
    },
    {
      "cell_type": "code",
      "metadata": {
        "colab": {
          "base_uri": "https://localhost:8080/"
        },
        "id": "i1yG8yKGarIm",
        "outputId": "09f4b750-8568-4ef6-c156-e623e13e76e5"
      },
      "source": [
        "import os\n",
        "import sys\n",
        "import requests\n",
        "\n",
        "\n",
        "# 등록된 client_id, client_secret 정보를 입력합니다.\n",
        "client_id = \"yBwPM0bgoQTE7MzqhxmM\"\n",
        "client_secret = \"2HiUBFvSq_\"\n",
        "\n",
        "# 얼굴 사진을 통한 나이 추정을 위해서는 아래 url을 사용합니다. (face: 얼굴 분석, celebrity: 닮은 유명인 찾기)\n",
        "url = \"https://openapi.naver.com/v1/vision/face\" \n",
        "#url = \"https://openapi.naver.com/v1/vision/celebrity\" \n",
        "\n",
        "# 분석할 이미지의 파일명을 입력합니다./\n",
        "files = {'image': open('/content/drive/MyDrive/2020.jpg', 'rb')}\n",
        "\n",
        "# API 입력 설정\n",
        "headers = {'X-Naver-Client-Id': client_id, 'X-Naver-Client-Secret': client_secret }\n",
        "\n",
        "# API 사용\n",
        "response = requests.post(url,  files=files, headers=headers)\n",
        "rescode = response.status_code\n",
        "\n",
        "if (rescode==200):\n",
        "    # 결과물 출력\n",
        "    print (response.text)\n",
        "else:\n",
        "    print(\"Error Code:\" + str(rescode))"
      ],
      "execution_count": null,
      "outputs": [
        {
          "output_type": "stream",
          "text": [
            "{\"info\":{\"size\":{\"width\":551,\"height\":709},\"faceCount\":1},\"faces\":[{\"roi\":{\"x\":184,\"y\":190,\"width\":200,\"height\":200},\"landmark\":{\"leftEye\":{\"x\":230,\"y\":241},\"rightEye\":{\"x\":328,\"y\":241},\"nose\":{\"x\":279,\"y\":298},\"leftMouth\":{\"x\":235,\"y\":340},\"rightMouth\":{\"x\":321,\"y\":339}},\"gender\":{\"value\":\"female\",\"confidence\":0.999936},\"age\":{\"value\":\"16~20\",\"confidence\":0.60055},\"emotion\":{\"value\":\"neutral\",\"confidence\":0.999991},\"pose\":{\"value\":\"frontal_face\",\"confidence\":0.999607}}]}\n"
          ],
          "name": "stdout"
        }
      ]
    },
    {
      "cell_type": "code",
      "metadata": {
        "colab": {
          "base_uri": "https://localhost:8080/"
        },
        "id": "jSk10HSUhShJ",
        "outputId": "ed66a3f9-a658-4807-d85b-551e030db6f5"
      },
      "source": [
        "alist = [17,24,22,22,16,20]    \n",
        "print(f'3팀의 평균연령은{sum(alist)/len(alist)}입니다')"
      ],
      "execution_count": null,
      "outputs": [
        {
          "output_type": "stream",
          "text": [
            "3팀의 평균연령은20.166666666666668입니다\n"
          ],
          "name": "stdout"
        }
      ]
    },
    {
      "cell_type": "code",
      "metadata": {
        "colab": {
          "base_uri": "https://localhost:8080/"
        },
        "id": "X-re1NVAiHNr",
        "outputId": "3b0f297d-1a21-4afb-c036-a831f161af66"
      },
      "source": [
        "alist = [17,24,22,22,16,20]    \n",
        "print(f'3팀의 평균연령은{int(sum(alist)/len(alist))}입니다')"
      ],
      "execution_count": null,
      "outputs": [
        {
          "output_type": "stream",
          "text": [
            "3팀의 평균연령은20입니다\n"
          ],
          "name": "stdout"
        }
      ]
    },
    {
      "cell_type": "code",
      "metadata": {
        "colab": {
          "base_uri": "https://localhost:8080/"
        },
        "id": "gaoDibejiZmC",
        "outputId": "84a9b373-3e62-4ae2-9ca2-e4addcaa3081"
      },
      "source": [
        "print(f'3팀의 평균연령은 {round(sum(alist)/len(alist),3)}입니다')"
      ],
      "execution_count": null,
      "outputs": [
        {
          "output_type": "stream",
          "text": [
            "3팀의 평균연령은 20.167입니다\n"
          ],
          "name": "stdout"
        }
      ]
    },
    {
      "cell_type": "markdown",
      "metadata": {
        "id": "Y29dAFYZjpeA"
      },
      "source": [
        "3팀은 list 안에 도출된 나이의 최저값을 나열하여\n",
        "20세가 나왔습니다.\n",
        "sum을 사용하여 list합계를 구하였고,\n",
        "이 값을 len을 사용하여 평균값을 구하였습니다.\n",
        "\n"
      ]
    },
    {
      "cell_type": "code",
      "metadata": {
        "colab": {
          "base_uri": "https://localhost:8080/"
        },
        "id": "U71JEANgkbD6",
        "outputId": "c6f70d2f-cc56-4783-c674-9547793c418a"
      },
      "source": [
        "team_dic = {'승혜':['이지민',24],'유진':['김아중',16],'지현':['서민정',22],'창익':['황규림',22],'혜원':['이윤지',20],'지선':['아이유',17]}\n",
        "a = input('우리 3팀의:')\n",
        "b_list = team_dic[a]\n",
        "print(f'우리{a}님은 연예인 {b_list[0]}을(를) 닮았어요.')\n",
        "print(f'얼굴 나이는{b_list[1]}! 대박대박!')\n",
        "print(f'사랑스러운{a}님이시네요 ♥')"
      ],
      "execution_count": null,
      "outputs": [
        {
          "output_type": "stream",
          "text": [
            "우리 3팀의:유진\n",
            "우리유진님은 연예인 김아중을(를) 닮았어요.\n",
            "얼굴 나이는16! 대박대박!\n",
            "사랑스러운유진님이시네요 ♥\n"
          ],
          "name": "stdout"
        }
      ]
    },
    {
      "cell_type": "code",
      "metadata": {
        "id": "e3kdN43JsyNk"
      },
      "source": [
        ""
      ],
      "execution_count": null,
      "outputs": []
    }
  ]
}